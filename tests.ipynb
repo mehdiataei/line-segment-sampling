{
 "metadata": {
  "language_info": {
   "codemirror_mode": {
    "name": "ipython",
    "version": 3
   },
   "file_extension": ".py",
   "mimetype": "text/x-python",
   "name": "python",
   "nbconvert_exporter": "python",
   "pygments_lexer": "ipython3",
   "version": "3.7.9"
  },
  "orig_nbformat": 2,
  "kernelspec": {
   "name": "python379jvsc74a57bd097bc2c7c187403e015fbc9337e5c0a175db10957dce6aa4ee71587c6f450d1fd",
   "display_name": "Python 3.7.9 64-bit ('base': conda)"
  },
  "metadata": {
   "interpreter": {
    "hash": "97bc2c7c187403e015fbc9337e5c0a175db10957dce6aa4ee71587c6f450d1fd"
   }
  }
 },
 "nbformat": 4,
 "nbformat_minor": 2,
 "cells": [
  {
   "cell_type": "code",
   "execution_count": 20,
   "metadata": {},
   "outputs": [],
   "source": [
    "import numpy as np\n",
    "from ground.base import get_context\n",
    "context = get_context()\n",
    "Point, Segment = context.point_cls, context.segment_cls\n",
    "from bentley_ottmann.planar import segments_intersect\n",
    "from tqdm.notebook import tqdm\n",
    "import matplotlib.pylab as plt\n",
    "from matplotlib import collections  as mc"
   ]
  },
  {
   "cell_type": "code",
   "execution_count": 38,
   "metadata": {
    "tags": []
   },
   "outputs": [],
   "source": [
    "class LineSegmentSampling2D:\n",
    "    \"\"\"\n",
    "    A class to generate line segments in a rectangular domain of\n",
    "    size lx, ly\n",
    "    \"\"\"\n",
    "\n",
    "    def __init__(self, min_length, max_length, lx, ly):\n",
    "        self.lx = lx\n",
    "        self.ly = ly\n",
    "        self.min_length = min_length\n",
    "        self.max_length = max_length\n",
    "\n",
    "    def generateLine(self):\n",
    "\n",
    "        r = np.random.uniform(self.min_length, self.max_length)\n",
    "        x1 = np.random.uniform(r, self.lx - r)\n",
    "        y1 = np.random.uniform(r, self.ly - r)\n",
    "\n",
    "        a = np.random.rand() * 2 * np.pi\n",
    "\n",
    "\n",
    "        x2 = r * np.cos(a) + x1\n",
    "\n",
    "        if x2 > self.lx:\n",
    "            x2 = self.lx\n",
    "        elif x2 < 0:\n",
    "            x2 = 0\n",
    "\n",
    "        y2 = r * np.sin(a) + y1\n",
    "        \n",
    "        if y2 > self.ly:\n",
    "            y2 = self.ly\n",
    "        elif y2 < 0:\n",
    "            y2 = 0\n",
    "\n",
    "        line_seg = Segment(Point(x1, y1), Point(x2, y2))\n",
    "\n",
    "        return line_seg\n",
    "\n",
    "    def generate_N_lines(self, N):\n",
    "        lines = []\n",
    "        for i in range(N):\n",
    "            lines.append(self.generateLine())\n",
    "        return lines\n",
    "\n",
    "    def generate_N_non_intersecting_lines(self, N):\n",
    "        lines = []\n",
    "        pbar = tqdm(total = N)\n",
    "        while len(lines) < N:\n",
    "            lines.append(self.generateLine())\n",
    "            if (segments_intersect(lines)):\n",
    "                lines = lines[:-1]\n",
    "            else: \n",
    "                pbar.update(1)\n",
    "\n",
    "\n",
    "        return lines\n",
    "\n"
   ]
  },
  {
   "cell_type": "code",
   "execution_count": 60,
   "metadata": {},
   "outputs": [
    {
     "output_type": "display_data",
     "data": {
      "text/plain": "  0%|          | 0/30 [00:00<?, ?it/s]",
      "application/vnd.jupyter.widget-view+json": {
       "version_major": 2,
       "version_minor": 0,
       "model_id": "69e8be919e934ae081c04b4c427e13c2"
      }
     },
     "metadata": {}
    },
    {
     "output_type": "display_data",
     "data": {
      "text/plain": "<Figure size 432x288 with 1 Axes>",
      "image/svg+xml": "<?xml version=\"1.0\" encoding=\"utf-8\" standalone=\"no\"?>\n<!DOCTYPE svg PUBLIC \"-//W3C//DTD SVG 1.1//EN\"\n  \"http://www.w3.org/Graphics/SVG/1.1/DTD/svg11.dtd\">\n<!-- Created with matplotlib (https://matplotlib.org/) -->\n<svg height=\"248.518125pt\" version=\"1.1\" viewBox=\"0 0 362.5625 248.518125\" width=\"362.5625pt\" xmlns=\"http://www.w3.org/2000/svg\" xmlns:xlink=\"http://www.w3.org/1999/xlink\">\n <metadata>\n  <rdf:RDF xmlns:cc=\"http://creativecommons.org/ns#\" xmlns:dc=\"http://purl.org/dc/elements/1.1/\" xmlns:rdf=\"http://www.w3.org/1999/02/22-rdf-syntax-ns#\">\n   <cc:Work>\n    <dc:type rdf:resource=\"http://purl.org/dc/dcmitype/StillImage\"/>\n    <dc:date>2021-04-14T18:14:53.835316</dc:date>\n    <dc:format>image/svg+xml</dc:format>\n    <dc:creator>\n     <cc:Agent>\n      <dc:title>Matplotlib v3.3.2, https://matplotlib.org/</dc:title>\n     </cc:Agent>\n    </dc:creator>\n   </cc:Work>\n  </rdf:RDF>\n </metadata>\n <defs>\n  <style type=\"text/css\">*{stroke-linecap:butt;stroke-linejoin:round;}</style>\n </defs>\n <g id=\"figure_1\">\n  <g id=\"patch_1\">\n   <path d=\"M 0 248.518125 \nL 362.5625 248.518125 \nL 362.5625 0 \nL 0 0 \nz\n\" style=\"fill:none;\"/>\n  </g>\n  <g id=\"axes_1\">\n   <g id=\"patch_2\">\n    <path d=\"M 20.5625 224.64 \nL 355.3625 224.64 \nL 355.3625 7.2 \nL 20.5625 7.2 \nz\n\" style=\"fill:#ffffff;\"/>\n   </g>\n   <g id=\"matplotlib.axis_1\">\n    <g id=\"xtick_1\">\n     <g id=\"line2d_1\">\n      <defs>\n       <path d=\"M 0 0 \nL 0 3.5 \n\" id=\"me6a9a6c89a\" style=\"stroke:#000000;stroke-width:0.8;\"/>\n      </defs>\n      <g>\n       <use style=\"stroke:#000000;stroke-width:0.8;\" x=\"24.274735\" xlink:href=\"#me6a9a6c89a\" y=\"224.64\"/>\n      </g>\n     </g>\n     <g id=\"text_1\">\n      <!-- 0 -->\n      <g transform=\"translate(21.093485 239.238437)scale(0.1 -0.1)\">\n       <defs>\n        <path d=\"M 31.78125 66.40625 \nQ 24.171875 66.40625 20.328125 58.90625 \nQ 16.5 51.421875 16.5 36.375 \nQ 16.5 21.390625 20.328125 13.890625 \nQ 24.171875 6.390625 31.78125 6.390625 \nQ 39.453125 6.390625 43.28125 13.890625 \nQ 47.125 21.390625 47.125 36.375 \nQ 47.125 51.421875 43.28125 58.90625 \nQ 39.453125 66.40625 31.78125 66.40625 \nz\nM 31.78125 74.21875 \nQ 44.046875 74.21875 50.515625 64.515625 \nQ 56.984375 54.828125 56.984375 36.375 \nQ 56.984375 17.96875 50.515625 8.265625 \nQ 44.046875 -1.421875 31.78125 -1.421875 \nQ 19.53125 -1.421875 13.0625 8.265625 \nQ 6.59375 17.96875 6.59375 36.375 \nQ 6.59375 54.828125 13.0625 64.515625 \nQ 19.53125 74.21875 31.78125 74.21875 \nz\n\" id=\"DejaVuSans-48\"/>\n       </defs>\n       <use xlink:href=\"#DejaVuSans-48\"/>\n      </g>\n     </g>\n    </g>\n    <g id=\"xtick_2\">\n     <g id=\"line2d_2\">\n      <g>\n       <use style=\"stroke:#000000;stroke-width:0.8;\" x=\"93.325522\" xlink:href=\"#me6a9a6c89a\" y=\"224.64\"/>\n      </g>\n     </g>\n     <g id=\"text_2\">\n      <!-- 2 -->\n      <g transform=\"translate(90.144272 239.238437)scale(0.1 -0.1)\">\n       <defs>\n        <path d=\"M 19.1875 8.296875 \nL 53.609375 8.296875 \nL 53.609375 0 \nL 7.328125 0 \nL 7.328125 8.296875 \nQ 12.9375 14.109375 22.625 23.890625 \nQ 32.328125 33.6875 34.8125 36.53125 \nQ 39.546875 41.84375 41.421875 45.53125 \nQ 43.3125 49.21875 43.3125 52.78125 \nQ 43.3125 58.59375 39.234375 62.25 \nQ 35.15625 65.921875 28.609375 65.921875 \nQ 23.96875 65.921875 18.8125 64.3125 \nQ 13.671875 62.703125 7.8125 59.421875 \nL 7.8125 69.390625 \nQ 13.765625 71.78125 18.9375 73 \nQ 24.125 74.21875 28.421875 74.21875 \nQ 39.75 74.21875 46.484375 68.546875 \nQ 53.21875 62.890625 53.21875 53.421875 \nQ 53.21875 48.921875 51.53125 44.890625 \nQ 49.859375 40.875 45.40625 35.40625 \nQ 44.1875 33.984375 37.640625 27.21875 \nQ 31.109375 20.453125 19.1875 8.296875 \nz\n\" id=\"DejaVuSans-50\"/>\n       </defs>\n       <use xlink:href=\"#DejaVuSans-50\"/>\n      </g>\n     </g>\n    </g>\n    <g id=\"xtick_3\">\n     <g id=\"line2d_3\">\n      <g>\n       <use style=\"stroke:#000000;stroke-width:0.8;\" x=\"162.37631\" xlink:href=\"#me6a9a6c89a\" y=\"224.64\"/>\n      </g>\n     </g>\n     <g id=\"text_3\">\n      <!-- 4 -->\n      <g transform=\"translate(159.19506 239.238437)scale(0.1 -0.1)\">\n       <defs>\n        <path d=\"M 37.796875 64.3125 \nL 12.890625 25.390625 \nL 37.796875 25.390625 \nz\nM 35.203125 72.90625 \nL 47.609375 72.90625 \nL 47.609375 25.390625 \nL 58.015625 25.390625 \nL 58.015625 17.1875 \nL 47.609375 17.1875 \nL 47.609375 0 \nL 37.796875 0 \nL 37.796875 17.1875 \nL 4.890625 17.1875 \nL 4.890625 26.703125 \nz\n\" id=\"DejaVuSans-52\"/>\n       </defs>\n       <use xlink:href=\"#DejaVuSans-52\"/>\n      </g>\n     </g>\n    </g>\n    <g id=\"xtick_4\">\n     <g id=\"line2d_4\">\n      <g>\n       <use style=\"stroke:#000000;stroke-width:0.8;\" x=\"231.427097\" xlink:href=\"#me6a9a6c89a\" y=\"224.64\"/>\n      </g>\n     </g>\n     <g id=\"text_4\">\n      <!-- 6 -->\n      <g transform=\"translate(228.245847 239.238437)scale(0.1 -0.1)\">\n       <defs>\n        <path d=\"M 33.015625 40.375 \nQ 26.375 40.375 22.484375 35.828125 \nQ 18.609375 31.296875 18.609375 23.390625 \nQ 18.609375 15.53125 22.484375 10.953125 \nQ 26.375 6.390625 33.015625 6.390625 \nQ 39.65625 6.390625 43.53125 10.953125 \nQ 47.40625 15.53125 47.40625 23.390625 \nQ 47.40625 31.296875 43.53125 35.828125 \nQ 39.65625 40.375 33.015625 40.375 \nz\nM 52.59375 71.296875 \nL 52.59375 62.3125 \nQ 48.875 64.0625 45.09375 64.984375 \nQ 41.3125 65.921875 37.59375 65.921875 \nQ 27.828125 65.921875 22.671875 59.328125 \nQ 17.53125 52.734375 16.796875 39.40625 \nQ 19.671875 43.65625 24.015625 45.921875 \nQ 28.375 48.1875 33.59375 48.1875 \nQ 44.578125 48.1875 50.953125 41.515625 \nQ 57.328125 34.859375 57.328125 23.390625 \nQ 57.328125 12.15625 50.6875 5.359375 \nQ 44.046875 -1.421875 33.015625 -1.421875 \nQ 20.359375 -1.421875 13.671875 8.265625 \nQ 6.984375 17.96875 6.984375 36.375 \nQ 6.984375 53.65625 15.1875 63.9375 \nQ 23.390625 74.21875 37.203125 74.21875 \nQ 40.921875 74.21875 44.703125 73.484375 \nQ 48.484375 72.75 52.59375 71.296875 \nz\n\" id=\"DejaVuSans-54\"/>\n       </defs>\n       <use xlink:href=\"#DejaVuSans-54\"/>\n      </g>\n     </g>\n    </g>\n    <g id=\"xtick_5\">\n     <g id=\"line2d_5\">\n      <g>\n       <use style=\"stroke:#000000;stroke-width:0.8;\" x=\"300.477885\" xlink:href=\"#me6a9a6c89a\" y=\"224.64\"/>\n      </g>\n     </g>\n     <g id=\"text_5\">\n      <!-- 8 -->\n      <g transform=\"translate(297.296635 239.238437)scale(0.1 -0.1)\">\n       <defs>\n        <path d=\"M 31.78125 34.625 \nQ 24.75 34.625 20.71875 30.859375 \nQ 16.703125 27.09375 16.703125 20.515625 \nQ 16.703125 13.921875 20.71875 10.15625 \nQ 24.75 6.390625 31.78125 6.390625 \nQ 38.8125 6.390625 42.859375 10.171875 \nQ 46.921875 13.96875 46.921875 20.515625 \nQ 46.921875 27.09375 42.890625 30.859375 \nQ 38.875 34.625 31.78125 34.625 \nz\nM 21.921875 38.8125 \nQ 15.578125 40.375 12.03125 44.71875 \nQ 8.5 49.078125 8.5 55.328125 \nQ 8.5 64.0625 14.71875 69.140625 \nQ 20.953125 74.21875 31.78125 74.21875 \nQ 42.671875 74.21875 48.875 69.140625 \nQ 55.078125 64.0625 55.078125 55.328125 \nQ 55.078125 49.078125 51.53125 44.71875 \nQ 48 40.375 41.703125 38.8125 \nQ 48.828125 37.15625 52.796875 32.3125 \nQ 56.78125 27.484375 56.78125 20.515625 \nQ 56.78125 9.90625 50.3125 4.234375 \nQ 43.84375 -1.421875 31.78125 -1.421875 \nQ 19.734375 -1.421875 13.25 4.234375 \nQ 6.78125 9.90625 6.78125 20.515625 \nQ 6.78125 27.484375 10.78125 32.3125 \nQ 14.796875 37.15625 21.921875 38.8125 \nz\nM 18.3125 54.390625 \nQ 18.3125 48.734375 21.84375 45.5625 \nQ 25.390625 42.390625 31.78125 42.390625 \nQ 38.140625 42.390625 41.71875 45.5625 \nQ 45.3125 48.734375 45.3125 54.390625 \nQ 45.3125 60.0625 41.71875 63.234375 \nQ 38.140625 66.40625 31.78125 66.40625 \nQ 25.390625 66.40625 21.84375 63.234375 \nQ 18.3125 60.0625 18.3125 54.390625 \nz\n\" id=\"DejaVuSans-56\"/>\n       </defs>\n       <use xlink:href=\"#DejaVuSans-56\"/>\n      </g>\n     </g>\n    </g>\n   </g>\n   <g id=\"matplotlib.axis_2\">\n    <g id=\"ytick_1\">\n     <g id=\"line2d_6\">\n      <defs>\n       <path d=\"M 0 0 \nL -3.5 0 \n\" id=\"m72e8aa4c93\" style=\"stroke:#000000;stroke-width:0.8;\"/>\n      </defs>\n      <g>\n       <use style=\"stroke:#000000;stroke-width:0.8;\" x=\"20.5625\" xlink:href=\"#m72e8aa4c93\" y=\"221.268786\"/>\n      </g>\n     </g>\n     <g id=\"text_6\">\n      <!-- 0 -->\n      <g transform=\"translate(7.2 225.068005)scale(0.1 -0.1)\">\n       <use xlink:href=\"#DejaVuSans-48\"/>\n      </g>\n     </g>\n    </g>\n    <g id=\"ytick_2\">\n     <g id=\"line2d_7\">\n      <g>\n       <use style=\"stroke:#000000;stroke-width:0.8;\" x=\"20.5625\" xlink:href=\"#m72e8aa4c93\" y=\"177.772767\"/>\n      </g>\n     </g>\n     <g id=\"text_7\">\n      <!-- 2 -->\n      <g transform=\"translate(7.2 181.571986)scale(0.1 -0.1)\">\n       <use xlink:href=\"#DejaVuSans-50\"/>\n      </g>\n     </g>\n    </g>\n    <g id=\"ytick_3\">\n     <g id=\"line2d_8\">\n      <g>\n       <use style=\"stroke:#000000;stroke-width:0.8;\" x=\"20.5625\" xlink:href=\"#m72e8aa4c93\" y=\"134.276749\"/>\n      </g>\n     </g>\n     <g id=\"text_8\">\n      <!-- 4 -->\n      <g transform=\"translate(7.2 138.075968)scale(0.1 -0.1)\">\n       <use xlink:href=\"#DejaVuSans-52\"/>\n      </g>\n     </g>\n    </g>\n    <g id=\"ytick_4\">\n     <g id=\"line2d_9\">\n      <g>\n       <use style=\"stroke:#000000;stroke-width:0.8;\" x=\"20.5625\" xlink:href=\"#m72e8aa4c93\" y=\"90.78073\"/>\n      </g>\n     </g>\n     <g id=\"text_9\">\n      <!-- 6 -->\n      <g transform=\"translate(7.2 94.579949)scale(0.1 -0.1)\">\n       <use xlink:href=\"#DejaVuSans-54\"/>\n      </g>\n     </g>\n    </g>\n    <g id=\"ytick_5\">\n     <g id=\"line2d_10\">\n      <g>\n       <use style=\"stroke:#000000;stroke-width:0.8;\" x=\"20.5625\" xlink:href=\"#m72e8aa4c93\" y=\"47.284712\"/>\n      </g>\n     </g>\n     <g id=\"text_10\">\n      <!-- 8 -->\n      <g transform=\"translate(7.2 51.083931)scale(0.1 -0.1)\">\n       <use xlink:href=\"#DejaVuSans-56\"/>\n      </g>\n     </g>\n    </g>\n   </g>\n   <g id=\"LineCollection_1\">\n    <path clip-path=\"url(#pe7281ba5bc)\" d=\"M 219.493431 85.439816 \nL 201.342667 89.190263 \n\" style=\"fill:none;stroke:#1f77b4;stroke-width:2;\"/>\n    <path clip-path=\"url(#pe7281ba5bc)\" d=\"M 197.677357 44.272338 \nL 206.023243 53.948075 \n\" style=\"fill:none;stroke:#1f77b4;stroke-width:2;\"/>\n    <path clip-path=\"url(#pe7281ba5bc)\" d=\"M 291.817612 180.343793 \nL 306.456311 180.72906 \n\" style=\"fill:none;stroke:#1f77b4;stroke-width:2;\"/>\n    <path clip-path=\"url(#pe7281ba5bc)\" d=\"M 67.910618 191.15144 \nL 71.327533 183.778693 \n\" style=\"fill:none;stroke:#1f77b4;stroke-width:2;\"/>\n    <path clip-path=\"url(#pe7281ba5bc)\" d=\"M 230.374877 162.505677 \nL 242.512381 175.864082 \n\" style=\"fill:none;stroke:#1f77b4;stroke-width:2;\"/>\n    <path clip-path=\"url(#pe7281ba5bc)\" d=\"M 132.857322 36.825466 \nL 155.385912 38.361038 \n\" style=\"fill:none;stroke:#1f77b4;stroke-width:2;\"/>\n    <path clip-path=\"url(#pe7281ba5bc)\" d=\"M 92.312201 106.668917 \nL 117.742653 106.663961 \n\" style=\"fill:none;stroke:#1f77b4;stroke-width:2;\"/>\n    <path clip-path=\"url(#pe7281ba5bc)\" d=\"M 317.992393 133.073438 \nL 303.743809 147.473304 \n\" style=\"fill:none;stroke:#1f77b4;stroke-width:2;\"/>\n    <path clip-path=\"url(#pe7281ba5bc)\" d=\"M 110.837794 25.633002 \nL 101.565817 32.053132 \n\" style=\"fill:none;stroke:#1f77b4;stroke-width:2;\"/>\n    <path clip-path=\"url(#pe7281ba5bc)\" d=\"M 62.011254 168.256004 \nL 69.48912 161.762479 \n\" style=\"fill:none;stroke:#1f77b4;stroke-width:2;\"/>\n    <path clip-path=\"url(#pe7281ba5bc)\" d=\"M 327.4625 25.32 \nL 306.617906 34.730733 \n\" style=\"fill:none;stroke:#1f77b4;stroke-width:2;\"/>\n    <path clip-path=\"url(#pe7281ba5bc)\" d=\"M 134.892811 75.452375 \nL 122.024936 74.349574 \n\" style=\"fill:none;stroke:#1f77b4;stroke-width:2;\"/>\n    <path clip-path=\"url(#pe7281ba5bc)\" d=\"M 247.50479 160.496652 \nL 228.357859 159.839339 \n\" style=\"fill:none;stroke:#1f77b4;stroke-width:2;\"/>\n    <path clip-path=\"url(#pe7281ba5bc)\" d=\"M 75.91048 157.97452 \nL 90.010538 152.754441 \n\" style=\"fill:none;stroke:#1f77b4;stroke-width:2;\"/>\n    <path clip-path=\"url(#pe7281ba5bc)\" d=\"M 93.552865 164.491507 \nL 94.355112 177.265932 \n\" style=\"fill:none;stroke:#1f77b4;stroke-width:2;\"/>\n    <path clip-path=\"url(#pe7281ba5bc)\" d=\"M 202.129695 185.530657 \nL 212.744353 169.769919 \n\" style=\"fill:none;stroke:#1f77b4;stroke-width:2;\"/>\n    <path clip-path=\"url(#pe7281ba5bc)\" d=\"M 59.721826 126.874125 \nL 49.872419 141.633983 \n\" style=\"fill:none;stroke:#1f77b4;stroke-width:2;\"/>\n    <path clip-path=\"url(#pe7281ba5bc)\" d=\"M 229.982591 72.562512 \nL 229.997025 61.77719 \n\" style=\"fill:none;stroke:#1f77b4;stroke-width:2;\"/>\n    <path clip-path=\"url(#pe7281ba5bc)\" d=\"M 184.257836 193.00541 \nL 184.410986 175.618331 \n\" style=\"fill:none;stroke:#1f77b4;stroke-width:2;\"/>\n    <path clip-path=\"url(#pe7281ba5bc)\" d=\"M 178.810342 70.251055 \nL 163.923573 71.10189 \n\" style=\"fill:none;stroke:#1f77b4;stroke-width:2;\"/>\n    <path clip-path=\"url(#pe7281ba5bc)\" d=\"M 253.281346 154.720074 \nL 230.747725 145.134309 \n\" style=\"fill:none;stroke:#1f77b4;stroke-width:2;\"/>\n    <path clip-path=\"url(#pe7281ba5bc)\" d=\"M 192.096462 97.119119 \nL 194.377753 106.914887 \n\" style=\"fill:none;stroke:#1f77b4;stroke-width:2;\"/>\n    <path clip-path=\"url(#pe7281ba5bc)\" d=\"M 115.598351 72.510729 \nL 101.339012 68.176246 \n\" style=\"fill:none;stroke:#1f77b4;stroke-width:2;\"/>\n    <path clip-path=\"url(#pe7281ba5bc)\" d=\"M 135.994399 147.305606 \nL 154.5573 138.0555 \n\" style=\"fill:none;stroke:#1f77b4;stroke-width:2;\"/>\n    <path clip-path=\"url(#pe7281ba5bc)\" d=\"M 233.175812 196.47687 \nL 233.047314 206.52 \n\" style=\"fill:none;stroke:#1f77b4;stroke-width:2;\"/>\n    <path clip-path=\"url(#pe7281ba5bc)\" d=\"M 244.442756 30.747896 \nL 220.190911 36.81917 \n\" style=\"fill:none;stroke:#1f77b4;stroke-width:2;\"/>\n    <path clip-path=\"url(#pe7281ba5bc)\" d=\"M 304.13311 97.72491 \nL 293.157438 111.396982 \n\" style=\"fill:none;stroke:#1f77b4;stroke-width:2;\"/>\n    <path clip-path=\"url(#pe7281ba5bc)\" d=\"M 200.480962 119.135803 \nL 209.584161 127.567324 \n\" style=\"fill:none;stroke:#1f77b4;stroke-width:2;\"/>\n    <path clip-path=\"url(#pe7281ba5bc)\" d=\"M 93.445476 155.354394 \nL 112.459124 162.847953 \n\" style=\"fill:none;stroke:#1f77b4;stroke-width:2;\"/>\n    <path clip-path=\"url(#pe7281ba5bc)\" d=\"M 62.648579 186.916209 \nL 48.4625 196.645495 \n\" style=\"fill:none;stroke:#1f77b4;stroke-width:2;\"/>\n   </g>\n   <g id=\"patch_3\">\n    <path d=\"M 20.5625 224.64 \nL 20.5625 7.2 \n\" style=\"fill:none;stroke:#000000;stroke-linecap:square;stroke-linejoin:miter;stroke-width:0.8;\"/>\n   </g>\n   <g id=\"patch_4\">\n    <path d=\"M 355.3625 224.64 \nL 355.3625 7.2 \n\" style=\"fill:none;stroke:#000000;stroke-linecap:square;stroke-linejoin:miter;stroke-width:0.8;\"/>\n   </g>\n   <g id=\"patch_5\">\n    <path d=\"M 20.5625 224.64 \nL 355.3625 224.64 \n\" style=\"fill:none;stroke:#000000;stroke-linecap:square;stroke-linejoin:miter;stroke-width:0.8;\"/>\n   </g>\n   <g id=\"patch_6\">\n    <path d=\"M 20.5625 7.2 \nL 355.3625 7.2 \n\" style=\"fill:none;stroke:#000000;stroke-linecap:square;stroke-linejoin:miter;stroke-width:0.8;\"/>\n   </g>\n  </g>\n </g>\n <defs>\n  <clipPath id=\"pe7281ba5bc\">\n   <rect height=\"217.44\" width=\"334.8\" x=\"20.5625\" y=\"7.2\"/>\n  </clipPath>\n </defs>\n</svg>\n",
      "image/png": "[encoded data removed]"
     },
     "metadata": {
      "needs_background": "light"
     }
    }
   ],
   "source": [
    "sampler = LineSegmentSampling2D(0.4, 1, 10, 10)\n",
    "\n",
    "lines = sampler.generate_N_non_intersecting_lines(30)\n",
    "lines_array = [[(i.start.x, i.start.y), (i.end.x, i.end.y)] for i in lines] \n",
    "s = 0.8\n",
    "scaled_lines_array = [[(i.start.x * (1+s) / 2. + i.end.x * (1-s) / 2., i.start.y * (1+s)/2. + i.end.y * (1-s) / 2.), (i.end.x * (1+s) / 2. + i.start.x * (1-s) / 2., i.end.y * (1+s) / 2. + i.start.y * (1-s) / 2.)] for i in lines] \n",
    "\n",
    "lc = mc.LineCollection(scaled_lines_array, linewidths=2)\n",
    "fig, ax = plt.subplots()\n",
    "ax.add_collection(lc)\n",
    "ax.margins(0.1)"
   ]
  },
  {
   "cell_type": "code",
   "execution_count": 12,
   "metadata": {},
   "outputs": [],
   "source": []
  },
  {
   "cell_type": "code",
   "execution_count": 15,
   "metadata": {},
   "outputs": [
    {
     "output_type": "execute_result",
     "data": {
      "text/plain": [
       "[(3.742849271238672, 3.6530789282996556),\n",
       " (4.61212400357231, 3.158749645608167)]"
      ]
     },
     "metadata": {},
     "execution_count": 15
    }
   ],
   "source": [
    "lines_array[0]"
   ]
  },
  {
   "cell_type": "code",
   "execution_count": null,
   "metadata": {},
   "outputs": [],
   "source": []
  }
 ]
}